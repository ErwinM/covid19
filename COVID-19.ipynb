{
 "cells": [
  {
   "cell_type": "markdown",
   "metadata": {},
   "source": [
    "## COVID-19 country comparison\n",
    "\n",
    "This generates a series of visualizations from the raw data tables, showing some aspects of the ongoing Covid-19 epidemic that I couldn't find in other reports.\n",
    "\n",
    "Shared on Reddit [here](https://www.reddit.com/r/dataisbeautiful/comments/ff9jn4/oc_number_of_cases_per_country_counting_from_the/)."
   ]
  },
  {
   "cell_type": "code",
   "execution_count": 1,
   "metadata": {},
   "outputs": [
    {
     "ename": "NameError",
     "evalue": "name 'register_matplotlib_converters' is not defined",
     "output_type": "error",
     "traceback": [
      "\u001b[0;31m---------------------------------------------------------------------------\u001b[0m",
      "\u001b[0;31mNameError\u001b[0m                                 Traceback (most recent call last)",
      "\u001b[0;32m<ipython-input-1-1c0d7fe1e560>\u001b[0m in \u001b[0;36m<module>\u001b[0;34m\u001b[0m\n\u001b[1;32m     15\u001b[0m \u001b[0;32mimport\u001b[0m \u001b[0mscipy\u001b[0m\u001b[0;34m.\u001b[0m\u001b[0moptimize\u001b[0m\u001b[0;34m\u001b[0m\u001b[0;34m\u001b[0m\u001b[0m\n\u001b[1;32m     16\u001b[0m \u001b[0;34m\u001b[0m\u001b[0m\n\u001b[0;32m---> 17\u001b[0;31m \u001b[0mregister_matplotlib_converters\u001b[0m\u001b[0;34m(\u001b[0m\u001b[0;34m)\u001b[0m\u001b[0;34m\u001b[0m\u001b[0;34m\u001b[0m\u001b[0m\n\u001b[0m\u001b[1;32m     18\u001b[0m \u001b[0mlight_grey\u001b[0m \u001b[0;34m=\u001b[0m \u001b[0;34m(\u001b[0m\u001b[0;36m.85\u001b[0m\u001b[0;34m,\u001b[0m \u001b[0;36m.85\u001b[0m\u001b[0;34m,\u001b[0m \u001b[0;36m.85\u001b[0m\u001b[0;34m,\u001b[0m \u001b[0;36m1\u001b[0m\u001b[0;34m)\u001b[0m\u001b[0;34m\u001b[0m\u001b[0;34m\u001b[0m\u001b[0m\n\u001b[1;32m     19\u001b[0m \u001b[0mmatplotlib\u001b[0m\u001b[0;34m.\u001b[0m\u001b[0mrcParams\u001b[0m\u001b[0;34m[\u001b[0m\u001b[0;34m'figure.figsize'\u001b[0m\u001b[0;34m]\u001b[0m \u001b[0;34m=\u001b[0m \u001b[0;34m(\u001b[0m\u001b[0;36m14\u001b[0m\u001b[0;34m,\u001b[0m \u001b[0;36m8\u001b[0m\u001b[0;34m)\u001b[0m        \u001b[0;31m# Default size of all figures\u001b[0m\u001b[0;34m\u001b[0m\u001b[0;34m\u001b[0m\u001b[0m\n",
      "\u001b[0;31mNameError\u001b[0m: name 'register_matplotlib_converters' is not defined"
     ]
    }
   ],
   "source": [
    "# Builtins\n",
    "import datetime\n",
    "import math\n",
    "from io import StringIO\n",
    "\n",
    "# Third party modules\n",
    "import requests\n",
    "import pandas as pd\n",
    "from pandas.plotting import scatter_matrix\n",
    "import matplotlib\n",
    "import matplotlib.pyplot as plt\n",
    "from matplotlib import dates as mdates\n",
    "from IPython.display import display\n",
    "import numpy as np\n",
    "import scipy.optimize\n",
    "\n",
    "register_matplotlib_converters()\n",
    "light_grey = (.85, .85, .85, 1) \n",
    "matplotlib.rcParams['figure.figsize'] = (14, 8)        # Default size of all figures\n",
    "matplotlib.rcParams['axes.facecolor'] = light_grey     # Default background color of all graph areas\n",
    "matplotlib.rcParams['figure.facecolor'] = light_grey   # Default background color of all figure borders\n",
    "cm = plt.cm.get_cmap('nipy_spectral')                  # This colormap is used for the colors of the plot lines\n",
    "\n",
    "# Where to get the data\n",
    "base_url = \"https://raw.githubusercontent.com/CSSEGISandData/COVID-19/master/csse_covid_19_data/csse_covid_19_time_series/\"\n",
    "data_urls = {\n",
    "    \"confirmed\": \"time_series_19-covid-Confirmed.csv\",\n",
    "    \"deaths\":    \"time_series_19-covid-Deaths.csv\",\n",
    "    \"recovered\": \"time_series_19-covid-Recovered.csv\"    \n",
    "}\n",
    "\n",
    "# Convenience function for labelling the y-axis\n",
    "def set_y_axis_format(log=True):\n",
    "    if log:\n",
    "        plt.yscale(\"log\")\n",
    "    plt.gca().get_yaxis().set_major_formatter(matplotlib.ticker.FuncFormatter(lambda x, p: f\"{x:,.0f}\"))"
   ]
  },
  {
   "cell_type": "markdown",
   "metadata": {},
   "source": [
    "### Retrieve the latest version of the data and transform it into a set of Pandas dataframes\n",
    "\n",
    "Show the first few rows of the confirmed cases dataframe for illustration."
   ]
  },
  {
   "cell_type": "code",
   "execution_count": 4,
   "metadata": {},
   "outputs": [
    {
     "ename": "NameError",
     "evalue": "name 'data_urls' is not defined",
     "output_type": "error",
     "traceback": [
      "\u001b[0;31m---------------------------------------------------------------------------\u001b[0m",
      "\u001b[0;31mNameError\u001b[0m                                 Traceback (most recent call last)",
      "\u001b[0;32m<ipython-input-4-4ae5fa04e3bb>\u001b[0m in \u001b[0;36m<module>\u001b[0;34m\u001b[0m\n\u001b[1;32m      1\u001b[0m \u001b[0;31m# Set up a dictionary to store all the data in\u001b[0m\u001b[0;34m\u001b[0m\u001b[0;34m\u001b[0m\u001b[0;34m\u001b[0m\u001b[0m\n\u001b[1;32m      2\u001b[0m \u001b[0mdataframes\u001b[0m \u001b[0;34m=\u001b[0m \u001b[0;34m{\u001b[0m\u001b[0;34m}\u001b[0m\u001b[0;34m\u001b[0m\u001b[0;34m\u001b[0m\u001b[0m\n\u001b[0;32m----> 3\u001b[0;31m \u001b[0;32mfor\u001b[0m \u001b[0mmetric\u001b[0m \u001b[0;32min\u001b[0m \u001b[0mdata_urls\u001b[0m\u001b[0;34m.\u001b[0m\u001b[0mkeys\u001b[0m\u001b[0;34m(\u001b[0m\u001b[0;34m)\u001b[0m\u001b[0;34m:\u001b[0m\u001b[0;34m\u001b[0m\u001b[0;34m\u001b[0m\u001b[0m\n\u001b[0m\u001b[1;32m      4\u001b[0m     \u001b[0murl\u001b[0m \u001b[0;34m=\u001b[0m \u001b[0mbase_url\u001b[0m \u001b[0;34m+\u001b[0m \u001b[0mdata_urls\u001b[0m\u001b[0;34m[\u001b[0m\u001b[0mmetric\u001b[0m\u001b[0;34m]\u001b[0m                             \u001b[0;31m# Combine URL parts\u001b[0m\u001b[0;34m\u001b[0m\u001b[0;34m\u001b[0m\u001b[0m\n\u001b[1;32m      5\u001b[0m     \u001b[0mr\u001b[0m \u001b[0;34m=\u001b[0m \u001b[0mrequests\u001b[0m\u001b[0;34m.\u001b[0m\u001b[0mget\u001b[0m\u001b[0;34m(\u001b[0m\u001b[0murl\u001b[0m\u001b[0;34m)\u001b[0m                                          \u001b[0;31m# Retrieve from URL\u001b[0m\u001b[0;34m\u001b[0m\u001b[0;34m\u001b[0m\u001b[0m\n",
      "\u001b[0;31mNameError\u001b[0m: name 'data_urls' is not defined"
     ]
    }
   ],
   "source": [
    "# Set up a dictionary to store all the data in\n",
    "dataframes = {}\n",
    "for metric in data_urls.keys():\n",
    "    url = base_url + data_urls[metric]                             # Combine URL parts\n",
    "    r = requests.get(url)                                          # Retrieve from URL\n",
    "    dataframes[metric] = pd.read_csv(StringIO(r.text), sep=\",\")    # Convert into Pandas dataframe\n",
    "    \n",
    "# Display the first 10 lines\n",
    "display(dataframes[\"confirmed\"].iloc[:15, :])"
   ]
  },
  {
   "cell_type": "markdown",
   "metadata": {},
   "source": [
    "### Process and add up all provinces/states into one row per country "
   ]
  },
  {
   "cell_type": "code",
   "execution_count": 3,
   "metadata": {},
   "outputs": [
    {
     "ename": "NameError",
     "evalue": "name 'data_urls' is not defined",
     "output_type": "error",
     "traceback": [
      "\u001b[0;31m---------------------------------------------------------------------------\u001b[0m",
      "\u001b[0;31mNameError\u001b[0m                                 Traceback (most recent call last)",
      "\u001b[0;32m<ipython-input-3-d0d6e886f49b>\u001b[0m in \u001b[0;36m<module>\u001b[0;34m\u001b[0m\n\u001b[0;32m----> 1\u001b[0;31m \u001b[0;32mfor\u001b[0m \u001b[0mmetric\u001b[0m \u001b[0;32min\u001b[0m \u001b[0mdata_urls\u001b[0m\u001b[0;34m.\u001b[0m\u001b[0mkeys\u001b[0m\u001b[0;34m(\u001b[0m\u001b[0;34m)\u001b[0m\u001b[0;34m:\u001b[0m\u001b[0;34m\u001b[0m\u001b[0;34m\u001b[0m\u001b[0m\n\u001b[0m\u001b[1;32m      2\u001b[0m     \u001b[0mby_country\u001b[0m \u001b[0;34m=\u001b[0m \u001b[0mdataframes\u001b[0m\u001b[0;34m[\u001b[0m\u001b[0mmetric\u001b[0m\u001b[0;34m]\u001b[0m\u001b[0;34m.\u001b[0m\u001b[0mgroupby\u001b[0m\u001b[0;34m(\u001b[0m\u001b[0;34m\"Country/Region\"\u001b[0m\u001b[0;34m)\u001b[0m\u001b[0;34m.\u001b[0m\u001b[0msum\u001b[0m\u001b[0;34m(\u001b[0m\u001b[0;34m)\u001b[0m           \u001b[0;31m# Group by country\u001b[0m\u001b[0;34m\u001b[0m\u001b[0;34m\u001b[0m\u001b[0m\n\u001b[1;32m      3\u001b[0m     \u001b[0mdates\u001b[0m \u001b[0;34m=\u001b[0m \u001b[0mby_country\u001b[0m\u001b[0;34m.\u001b[0m\u001b[0mcolumns\u001b[0m\u001b[0;34m[\u001b[0m\u001b[0;36m2\u001b[0m\u001b[0;34m:\u001b[0m\u001b[0;34m]\u001b[0m                                            \u001b[0;31m# Drop Lat/Long columns\u001b[0m\u001b[0;34m\u001b[0m\u001b[0;34m\u001b[0m\u001b[0m\n\u001b[1;32m      4\u001b[0m     \u001b[0mby_country\u001b[0m\u001b[0;34m.\u001b[0m\u001b[0mloc\u001b[0m\u001b[0;34m[\u001b[0m\u001b[0;34m\"All except China\"\u001b[0m\u001b[0;34m,\u001b[0m \u001b[0mdates\u001b[0m\u001b[0;34m]\u001b[0m \u001b[0;34m=\u001b[0m\u001b[0;31m\\\u001b[0m\u001b[0;34m\u001b[0m\u001b[0;34m\u001b[0m\u001b[0m\n\u001b[1;32m      5\u001b[0m         \u001b[0mby_country\u001b[0m\u001b[0;34m.\u001b[0m\u001b[0msum\u001b[0m\u001b[0;34m(\u001b[0m\u001b[0;34m)\u001b[0m\u001b[0;34m.\u001b[0m\u001b[0mloc\u001b[0m\u001b[0;34m[\u001b[0m\u001b[0mdates\u001b[0m\u001b[0;34m]\u001b[0m\u001b[0;34m-\u001b[0m\u001b[0mby_country\u001b[0m\u001b[0;34m.\u001b[0m\u001b[0mloc\u001b[0m\u001b[0;34m[\u001b[0m\u001b[0;34m\"Mainland China\"\u001b[0m\u001b[0;34m,\u001b[0m \u001b[0mdates\u001b[0m\u001b[0;34m]\u001b[0m   \u001b[0;31m# Add \"Outside China\" row\u001b[0m\u001b[0;34m\u001b[0m\u001b[0;34m\u001b[0m\u001b[0m\n",
      "\u001b[0;31mNameError\u001b[0m: name 'data_urls' is not defined"
     ]
    }
   ],
   "source": [
    "for metric in data_urls.keys():\n",
    "    by_country = dataframes[metric].groupby(\"Country/Region\").sum()           # Group by country\n",
    "    dates = by_country.columns[2:]                                            # Drop Lat/Long columns\n",
    "    by_country.loc[\"All except China\", dates] =\\\n",
    "        by_country.sum().loc[dates]-by_country.loc[\"Mainland China\", dates]   # Add \"Outside China\" row\n",
    "    by_country = by_country.loc[:, dates].astype(int)                         # Convert to columns to matplotlib dates\n",
    "    dates = pd.to_datetime(dates)\n",
    "    by_country.columns = dates\n",
    "\n",
    "    if metric == \"confirmed\":\n",
    "        # Add in some data points for China from before the start of the Johns Hopkins data.\n",
    "        # Source: https://en.wikipedia.org/wiki/Timeline_of_the_2019%E2%80%9320_coronavirus_outbreak_in_December_2019_%E2%80%93_January_2020\n",
    "        early_china_data = {\n",
    "            \"1/17/20\": 45,\n",
    "            \"1/18/20\": 62,\n",
    "            \"1/20/20\": 218\n",
    "        }\n",
    "        for d, n in early_china_data.items():\n",
    "            by_country.loc[\"Mainland China\", pd.to_datetime(d)] = n               # Insert early China data point\n",
    "        by_country = by_country.reindex(list(sorted(by_country.columns)), axis=1) # Retain chronological column order  \n",
    "        by_country = by_country.fillna(0)\n",
    "        \n",
    "        # Correct an odd blip in the Japanese data. \n",
    "        # From 2/5 to 2/7, the Johns Hopkins data for Japan goes 22, 45, 25. \n",
    "        # I assume that the 45 is incorrect.\n",
    "        by_country.loc[\"Japan\", pd.to_datetime(\"2/06/20\")] = 23.5      #  Halfway between values for 2/5 and 2/7\n",
    "        \n",
    "    by_country = by_country.rename(index={\"Republic of Korea\": \"South Korea\", # Change some weird formal names to\n",
    "                                          \"Holy See\": \"Vatican City\",         # more commonly used ones\n",
    "                                          \"Iran (Islamic Republic of)\": \"Iran\",\n",
    "                                          \"Viet Nam\": \"Vietnam\",\n",
    "                                          \"Taipei and environs\": \"Taiwan\",\n",
    "                                          \"Republic of Moldova\": \"Moldova\",\n",
    "                                          \"Russian Federaration\": \"Russia\",\n",
    "                                          \"Others\": \"Cruise Ship\",            # By popular request\n",
    "                                         })        \n",
    "        \n",
    "    dataframes[metric+\"_by_country\"] = by_country\n",
    "    \n",
    "confirmed_by_country = dataframes[\"confirmed_by_country\"]              # Shorthand\n",
    "\n",
    "with pd.option_context(\"display.max_rows\", 10, \"display.max_columns\", 10):\n",
    "    display(dataframes[\"confirmed_by_country\"])"
   ]
  },
  {
   "cell_type": "markdown",
   "metadata": {},
   "source": [
    "### List all countries in the `by_country` table"
   ]
  },
  {
   "cell_type": "code",
   "execution_count": null,
   "metadata": {},
   "outputs": [],
   "source": [
    "print(f\"{len(confirmed_by_country)} countries/territories affected:\\n\")\n",
    "for i, k in enumerate(confirmed_by_country.index):\n",
    "    if len(k) > 19:\n",
    "        k = k[:18] + \".\"\n",
    "    print(f\"{k:20}\", end=\" \" if (i+1) % 5 else \"\\n\")      # Every 5 items, end with a newline"
   ]
  },
  {
   "cell_type": "code",
   "execution_count": null,
   "metadata": {},
   "outputs": [],
   "source": [
    "def plot(x_metric, y_metric, countries_to_plot, markers=\"o.^v<>sXD*,\", colormap=cm, \n",
    "         use_log_scale=True, min_cases=40, n_days_average=5):\n",
    "    short_metric_to_long = {\n",
    "        \"confirmed\": \"Confirmed cases\",\n",
    "        \"deaths\":    \"Deaths\",\n",
    "        \"active\":    \"Active cases\",\n",
    "        \"growth_factor\": f\"{n_days_average}-day-average growth factor\"\n",
    "    }\n",
    "    fills = [\"none\", \"full\"]\n",
    "    length = None\n",
    "    m = len(markers)\n",
    "    cm = plt.cm.get_cmap(colormap)\n",
    "    cNorm = matplotlib.colors.Normalize(vmin=0, vmax=len(countries_to_plot))\n",
    "    scalarMap = matplotlib.cm.ScalarMappable(norm=cNorm, cmap=cm)\n",
    "    if y_metric in dataframes:\n",
    "        by_country   = dataframes[y_metric+\"_by_country\"]\n",
    "    elif y_metric == \"growth_factor\":\n",
    "        by_country   = dataframes[\"confirmed_by_country\"]\n",
    "    elif y_metric == \"active\":\n",
    "        by_country = dataframes[\"confirmed_by_country\"] - \\\n",
    "                     dataframes[\"deaths_by_country\"] - \\\n",
    "                     dataframes[\"recovered_by_country\"] \n",
    "    else:\n",
    "        print(f\"{y_metric}' is an invalid y_metric!\")\n",
    "        \n",
    "    for i, country in enumerate(countries_to_plot):\n",
    "        country_data = by_country.loc[country] # , dates]\n",
    "        fill = fills[i % (2*len(markers)) < len(markers)]\n",
    "        \n",
    "        if y_metric == \"growth_factor\":\n",
    "            if x_metric == \"day_number\":\n",
    "                country_data = country_data[country_data >= min_cases]\n",
    "            country_data = country_data.diff() / country_data + 1\n",
    "            country_data = np.convolve(country_data, np.ones(n_days_average)/n_days_average, mode=\"valid\")\n",
    "            \n",
    "        is_valid = sum(np.nan_to_num(country_data)) > 0\n",
    "        \n",
    "        if x_metric == \"calendar_date\" and is_valid:\n",
    "            plt.plot(country_data, markers[i%m]+\"-\", label=country, \n",
    "                 markersize=6, color=scalarMap.to_rgba(i), alpha=1, fillstyle=fill)\n",
    "            \n",
    "        elif x_metric == \"day_number\":                   \n",
    "            if y_metric != \"growth_factor\":\n",
    "                country_data = country_data[country_data >= min_cases]\n",
    "            if country == \"Outside China\":\n",
    "                length = len(country_data)\n",
    "            day_nr = list(range(len(country_data)))\n",
    "            if is_valid:\n",
    "                plt.plot(day_nr, country_data, markers[i%m]+\"-\", label=country, \n",
    "                         markersize=6, color=scalarMap.to_rgba(i), alpha=1, fillstyle=fill)\n",
    "      \n",
    "    long_y_metric = short_metric_to_long[y_metric]\n",
    "    plt.ylabel(long_y_metric, fontsize=14)\n",
    "    if x_metric == \"calendar_date\":\n",
    "        plt.xlabel(\"Date\", fontsize=14)\n",
    "        plt.title(f\"COVID-19 {long_y_metric} over time in selected countries\", fontsize=18)\n",
    "        plt.ylim(0.9*use_log_scale, by_country.loc[countries_to_plot].max().max()*(2-0.9*(not use_log_scale)))\n",
    "        firstweekday = pd.Timestamp(country_data.index[0]).dayofweek\n",
    "        plt.gca().xaxis.set_major_locator(mdates.WeekdayLocator(interval=1, byweekday=firstweekday))\n",
    "    elif x_metric == \"day_number\":\n",
    "        if y_metric != \"growth_factor\":        \n",
    "            floor = 10**math.floor(math.log(min_cases)/math.log(10))\n",
    "            floor = floor * (1 - (not use_log_scale))  * .9\n",
    "            ceil  = 10**math.ceil(math.log(by_country.loc[countries_to_plot].max().max())/math.log(10))\n",
    "            ceil  = ceil * 1.2\n",
    "            plt.ylim(floor, ceil)            \n",
    "        plt.xlim(0, length)\n",
    "        plt.xlabel(\"Day Number\", fontsize=14)\n",
    "        plt.title(f\"COVID-19 {long_y_metric}, from the first day with ≥{min_cases} local cases,in selected countries\", \n",
    "                  fontsize=18)\n",
    "        \n",
    "    plt.legend()\n",
    "    if y_metric == \"growth_factor\":\n",
    "        plt.gca().get_yaxis().set_major_formatter(matplotlib.ticker.FuncFormatter(lambda x, p: f\"{x:,.2f}\"))\n",
    "        plt.ylabel(\"Growth Factor\", fontsize=14)\n",
    "    else:\n",
    "        set_y_axis_format(use_log_scale)\n",
    "    plt.grid()\n",
    "    plt.xticks(fontsize=12)\n",
    "    plt.yticks(fontsize=12)\n",
    "    plt.gca().tick_params(which=\"minor\", width=0)\n",
    "    plt.gca().tick_params(which=\"major\", color=light_grey)    \n",
    "    for spine in plt.gca().spines.values():\n",
    "        spine.set_visible(False)\n",
    "    plt.show()"
   ]
  },
  {
   "cell_type": "markdown",
   "metadata": {},
   "source": [
    "### Plot cases over calendar date in selected countries"
   ]
  },
  {
   "cell_type": "code",
   "execution_count": null,
   "metadata": {
    "scrolled": false
   },
   "outputs": [],
   "source": [
    "countries_to_plot = [\"Mainland China\", \"Japan\", \"South Korea\", \"US\", \"Italy\", \"Iran\", \"Germany\",\n",
    "                     \"France\", \"Spain\", \"Netherlands\", \"Cruise Ship\", \"All except China\"]\n",
    "\n",
    "for y_metric in [\"confirmed\", \"deaths\", \"active\"]:\n",
    "    plot(\"calendar_date\", y_metric, countries_to_plot)"
   ]
  },
  {
   "cell_type": "markdown",
   "metadata": {},
   "source": [
    "### Plot cases over days since start of local outbreak in selected countries"
   ]
  },
  {
   "cell_type": "code",
   "execution_count": null,
   "metadata": {},
   "outputs": [],
   "source": [
    "plot(\"day_number\", \"confirmed\", countries_to_plot, min_cases=40)\n",
    "plot(\"day_number\", \"deaths\", countries_to_plot, min_cases=3)\n",
    "plot(\"day_number\", \"active\", countries_to_plot, min_cases=40)"
   ]
  },
  {
   "cell_type": "markdown",
   "metadata": {},
   "source": [
    "### Smoothed growth factor"
   ]
  },
  {
   "cell_type": "code",
   "execution_count": null,
   "metadata": {},
   "outputs": [],
   "source": [
    "plot(\"day_number\", \"growth_factor\", countries_to_plot)"
   ]
  },
  {
   "cell_type": "markdown",
   "metadata": {},
   "source": [
    "### Confirmed cases, deaths and active cases in some other countries\n",
    "\n",
    "This cell should be relatively easy to experiment in by changing the list of countries, or switching between logarithmic and linear scale."
   ]
  },
  {
   "cell_type": "code",
   "execution_count": 2,
   "metadata": {},
   "outputs": [
    {
     "ename": "NameError",
     "evalue": "name 'plot' is not defined",
     "output_type": "error",
     "traceback": [
      "\u001b[0;31m---------------------------------------------------------------------------\u001b[0m",
      "\u001b[0;31mNameError\u001b[0m                                 Traceback (most recent call last)",
      "\u001b[0;32m<ipython-input-2-8bc3d166fe97>\u001b[0m in \u001b[0;36m<module>\u001b[0;34m\u001b[0m\n\u001b[1;32m      1\u001b[0m \u001b[0;32mfor\u001b[0m \u001b[0my_metric\u001b[0m \u001b[0;32min\u001b[0m \u001b[0;34m[\u001b[0m\u001b[0;34m\"confirmed\"\u001b[0m\u001b[0;34m,\u001b[0m \u001b[0;34m\"deaths\"\u001b[0m\u001b[0;34m,\u001b[0m \u001b[0;34m\"active\"\u001b[0m\u001b[0;34m]\u001b[0m\u001b[0;34m:\u001b[0m\u001b[0;34m\u001b[0m\u001b[0;34m\u001b[0m\u001b[0m\n\u001b[0;32m----> 2\u001b[0;31m     plot(\"calendar_date\", y_metric, \n\u001b[0m\u001b[1;32m      3\u001b[0m          \u001b[0;34m[\u001b[0m\u001b[0;34m\"Belgium\"\u001b[0m\u001b[0;34m,\u001b[0m \u001b[0;34m\"Brazil\"\u001b[0m\u001b[0;34m,\u001b[0m \u001b[0;34m\"Canada\"\u001b[0m\u001b[0;34m,\u001b[0m \u001b[0;34m\"Finland\"\u001b[0m\u001b[0;34m,\u001b[0m \u001b[0;34m\"India\"\u001b[0m\u001b[0;34m,\u001b[0m \u001b[0;34m\"Singapore\"\u001b[0m\u001b[0;34m,\u001b[0m \u001b[0;34m\"Spain\"\u001b[0m\u001b[0;34m,\u001b[0m \u001b[0;34m\"US\"\u001b[0m\u001b[0;34m]\u001b[0m\u001b[0;34m,\u001b[0m\u001b[0;34m\u001b[0m\u001b[0;34m\u001b[0m\u001b[0m\n\u001b[1;32m      4\u001b[0m          use_log_scale=False)\n",
      "\u001b[0;31mNameError\u001b[0m: name 'plot' is not defined"
     ]
    }
   ],
   "source": [
    "for y_metric in [\"confirmed\", \"deaths\", \"active\"]:\n",
    "    plot(\"calendar_date\", y_metric, \n",
    "         [\"Belgium\", \"Brazil\", \"Canada\", \"Finland\", \"India\", \"Singapore\", \"Spain\", \"US\"],\n",
    "         use_log_scale=False)"
   ]
  },
  {
   "cell_type": "markdown",
   "metadata": {},
   "source": [
    "### Fit a logistic curve and extrapolate number of future cases"
   ]
  },
  {
   "cell_type": "code",
   "execution_count": 3,
   "metadata": {
    "scrolled": false
   },
   "outputs": [
    {
     "ename": "NameError",
     "evalue": "name 'dataframes' is not defined",
     "output_type": "error",
     "traceback": [
      "\u001b[0;31m---------------------------------------------------------------------------\u001b[0m",
      "\u001b[0;31mNameError\u001b[0m                                 Traceback (most recent call last)",
      "\u001b[0;32m<ipython-input-3-3e73cf5b5657>\u001b[0m in \u001b[0;36m<module>\u001b[0;34m\u001b[0m\n\u001b[1;32m     53\u001b[0m     \u001b[0;32mreturn\u001b[0m \u001b[0mcountry_data\u001b[0m\u001b[0;34m,\u001b[0m \u001b[0mmodel_date_list\u001b[0m\u001b[0;34m,\u001b[0m \u001b[0mlogistic\u001b[0m\u001b[0;34m,\u001b[0m \u001b[0mlogistic_plus_sigma\u001b[0m\u001b[0;34m,\u001b[0m \u001b[0mlogistic_minus_sigma\u001b[0m\u001b[0;34m\u001b[0m\u001b[0;34m\u001b[0m\u001b[0m\n\u001b[1;32m     54\u001b[0m \u001b[0;34m\u001b[0m\u001b[0m\n\u001b[0;32m---> 55\u001b[0;31m \u001b[0mcurve_fit\u001b[0m\u001b[0;34m(\u001b[0m\u001b[0;34m\"US\"\u001b[0m\u001b[0;34m,\u001b[0m \u001b[0mdays\u001b[0m\u001b[0;34m=\u001b[0m\u001b[0;36m120\u001b[0m\u001b[0;34m)\u001b[0m\u001b[0;34m;\u001b[0m\u001b[0;34m\u001b[0m\u001b[0;34m\u001b[0m\u001b[0m\n\u001b[0m",
      "\u001b[0;32m<ipython-input-3-3e73cf5b5657>\u001b[0m in \u001b[0;36mcurve_fit\u001b[0;34m(country, days, do_plot)\u001b[0m\n\u001b[1;32m      4\u001b[0m \u001b[0;32mdef\u001b[0m \u001b[0mcurve_fit\u001b[0m\u001b[0;34m(\u001b[0m\u001b[0mcountry\u001b[0m\u001b[0;34m=\u001b[0m\u001b[0;34m\"All except China\"\u001b[0m\u001b[0;34m,\u001b[0m \u001b[0mdays\u001b[0m\u001b[0;34m=\u001b[0m\u001b[0;36m100\u001b[0m\u001b[0;34m,\u001b[0m \u001b[0mdo_plot\u001b[0m\u001b[0;34m=\u001b[0m\u001b[0;32mTrue\u001b[0m\u001b[0;34m)\u001b[0m\u001b[0;34m:\u001b[0m\u001b[0;34m\u001b[0m\u001b[0;34m\u001b[0m\u001b[0m\n\u001b[1;32m      5\u001b[0m     \u001b[0mx\u001b[0m \u001b[0;34m=\u001b[0m \u001b[0mnp\u001b[0m\u001b[0;34m.\u001b[0m\u001b[0marange\u001b[0m\u001b[0;34m(\u001b[0m\u001b[0mdays\u001b[0m\u001b[0;34m)\u001b[0m\u001b[0;34m\u001b[0m\u001b[0;34m\u001b[0m\u001b[0m\n\u001b[0;32m----> 6\u001b[0;31m     \u001b[0mcountry_data\u001b[0m \u001b[0;34m=\u001b[0m \u001b[0mdataframes\u001b[0m\u001b[0;34m[\u001b[0m\u001b[0;34m\"confirmed_by_country\"\u001b[0m\u001b[0;34m]\u001b[0m\u001b[0;34m.\u001b[0m\u001b[0mloc\u001b[0m\u001b[0;34m[\u001b[0m\u001b[0mcountry\u001b[0m\u001b[0;34m,\u001b[0m \u001b[0;34m:\u001b[0m\u001b[0;34m]\u001b[0m\u001b[0;34m\u001b[0m\u001b[0;34m\u001b[0m\u001b[0m\n\u001b[0m\u001b[1;32m      7\u001b[0m     \u001b[0mcountry_data\u001b[0m \u001b[0;34m=\u001b[0m \u001b[0mcountry_data\u001b[0m\u001b[0;34m[\u001b[0m\u001b[0mnp\u001b[0m\u001b[0;34m.\u001b[0m\u001b[0misfinite\u001b[0m\u001b[0;34m(\u001b[0m\u001b[0mcountry_data\u001b[0m\u001b[0;34m)\u001b[0m\u001b[0;34m]\u001b[0m\u001b[0;34m\u001b[0m\u001b[0;34m\u001b[0m\u001b[0m\n\u001b[1;32m      8\u001b[0m     \u001b[0mcurrent_day\u001b[0m \u001b[0;34m=\u001b[0m \u001b[0mcountry_data\u001b[0m\u001b[0;34m.\u001b[0m\u001b[0mindex\u001b[0m\u001b[0;34m[\u001b[0m\u001b[0;34m-\u001b[0m\u001b[0;36m1\u001b[0m\u001b[0;34m]\u001b[0m\u001b[0;34m\u001b[0m\u001b[0;34m\u001b[0m\u001b[0m\n",
      "\u001b[0;31mNameError\u001b[0m: name 'dataframes' is not defined"
     ]
    }
   ],
   "source": [
    "def logistic_func(x, L, k, x0):\n",
    "    return L / (1 + np.exp(-k * (x - x0)))\n",
    "\n",
    "def curve_fit(country=\"All except China\", days=100, do_plot=True):\n",
    "    x = np.arange(days)\n",
    "    country_data = dataframes[\"confirmed_by_country\"].loc[country, :]\n",
    "    country_data = country_data[np.isfinite(country_data)]\n",
    "    current_day = country_data.index[-1]\n",
    "    \n",
    "    [L, k, x0], pcov =  scipy.optimize.curve_fit(logistic_func, np.arange(len(country_data)), \n",
    "                                                 country_data, maxfev=10000, \n",
    "                                                 p0=[1e6, 0.5, max(1, 2*len(country_data))],\n",
    "                                                 bounds=([0, 0.0, 1], [1e9, 1.0, 200]),\n",
    "                                                 method=\"trf\"\n",
    "                                                )\n",
    "\n",
    "    # dates up to 100 days after start\n",
    "    model_date_list = [current_day + datetime.timedelta(days = n) for n in range(0, len(x) - len(country_data))] \n",
    "    model_date_list = [mdates.date2num(x) for x in model_date_list]\n",
    "\n",
    "    n = len(model_date_list)\n",
    "    sig_L, sig_k, sig_x0 = np.sqrt(np.diag(pcov))\n",
    "    logistic = logistic_func(x[-n:]-1, L, k, x0)\n",
    "    logistic_plus_sigma = logistic_func(x[-n:]-1, L+sig_L, k+sig_k, x0+sig_x0)\n",
    "    logistic_minus_sigma = np.maximum(0, logistic_func(x[-n:]-1, L-sig_L, k-sig_k, x0-sig_x0))\n",
    "\n",
    "    if do_plot:\n",
    "        plt.plot(country_data, label=\"Confirmed cases in \" + country, markersize=3, zorder=1)\n",
    "        plt.plot(model_date_list, \n",
    "                 logistic, label=f\"{L:.0f} / (1 + e^(-{k:.3f} * (x - {x0:.3f})))\", zorder=1)\n",
    "        plt.fill_between(model_date_list, logistic_minus_sigma, logistic_plus_sigma, alpha=0.3, color=\"C01\")\n",
    "\n",
    "        plt.grid()\n",
    "        plt.legend(loc=\"upper left\")\n",
    "        plt.title(\"Logistic curve fit and extrapolation, ±1 sigma\", fontsize=18)\n",
    "        plt.xlabel(\"Date\", fontsize=14)\n",
    "        plt.ylabel(\"Cases\", fontsize=14)\n",
    "        plt.scatter(mdates.date2num(current_day), country_data[-1], s=20, c=\"C00\", zorder=2)\n",
    "        plt.annotate(f\"{datetime.datetime.strftime(current_day, '%m/%d')}: {country_data[-1]:,.0f}\", \n",
    "                     (mdates.date2num(current_day)+1, country_data[-1]), fontsize=18)\n",
    "\n",
    "        plt.scatter(model_date_list[-1], logistic[-1], s=20, c=\"C01\", zorder=2)\n",
    "        plt.annotate(f\"{mdates.num2date(model_date_list[-1]).strftime('%m/%d')}: {logistic[-1]:,.0f}\", \n",
    "                     (model_date_list[-1]-14, logistic[-1]*0.94), fontsize=18)\n",
    "        set_y_axis_format(True)\n",
    "        plt.xticks(fontsize=12)\n",
    "        plt.yticks(fontsize=12)\n",
    "        plt.gca().tick_params(which=\"both\", color=light_grey)\n",
    "        for spine in plt.gca().spines.values():\n",
    "            spine.set_visible(False)\n",
    "        plt.show()\n",
    "\n",
    "    return country_data, model_date_list, logistic, logistic_plus_sigma, logistic_minus_sigma\n",
    "    \n",
    "curve_fit(\"US\", days=120);"
   ]
  },
  {
   "cell_type": "markdown",
   "metadata": {},
   "source": [
    "### Worldwide projection\n",
    "\n",
    "For many countries, the curve fitting doesn't give very plausible results, so take this with many grains of salt."
   ]
  },
  {
   "cell_type": "code",
   "execution_count": 4,
   "metadata": {
    "scrolled": false
   },
   "outputs": [
    {
     "ename": "NameError",
     "evalue": "name 'confirmed_by_country' is not defined",
     "output_type": "error",
     "traceback": [
      "\u001b[0;31m---------------------------------------------------------------------------\u001b[0m",
      "\u001b[0;31mNameError\u001b[0m                                 Traceback (most recent call last)",
      "\u001b[0;32m<ipython-input-4-1fc608f59831>\u001b[0m in \u001b[0;36m<module>\u001b[0;34m\u001b[0m\n\u001b[1;32m      5\u001b[0m \u001b[0;34m\u001b[0m\u001b[0m\n\u001b[1;32m      6\u001b[0m \u001b[0;34m\u001b[0m\u001b[0m\n\u001b[0;32m----> 7\u001b[0;31m \u001b[0;32mfor\u001b[0m \u001b[0mcountry\u001b[0m \u001b[0;32min\u001b[0m \u001b[0mconfirmed_by_country\u001b[0m\u001b[0;34m.\u001b[0m\u001b[0mindex\u001b[0m\u001b[0;34m:\u001b[0m\u001b[0;34m\u001b[0m\u001b[0;34m\u001b[0m\u001b[0m\n\u001b[0m\u001b[1;32m      8\u001b[0m     \u001b[0;32mif\u001b[0m \u001b[0mcountry\u001b[0m \u001b[0;34m==\u001b[0m \u001b[0;34m\"All except China\"\u001b[0m\u001b[0;34m:\u001b[0m \u001b[0;32mcontinue\u001b[0m\u001b[0;34m\u001b[0m\u001b[0;34m\u001b[0m\u001b[0m\n\u001b[1;32m      9\u001b[0m     \u001b[0mcountry_data\u001b[0m\u001b[0;34m,\u001b[0m \u001b[0mmodel_date_list\u001b[0m\u001b[0;34m,\u001b[0m \u001b[0mlogistic\u001b[0m\u001b[0;34m,\u001b[0m \u001b[0mlogistic_plus_sigma\u001b[0m\u001b[0;34m,\u001b[0m \u001b[0mlogistic_minus_sigma\u001b[0m \u001b[0;34m=\u001b[0m\u001b[0;31m\\\u001b[0m\u001b[0;34m\u001b[0m\u001b[0;34m\u001b[0m\u001b[0m\n",
      "\u001b[0;31mNameError\u001b[0m: name 'confirmed_by_country' is not defined"
     ]
    }
   ],
   "source": [
    "totals = {\n",
    "    \"model\": [],\n",
    "    \"cases\": [],\n",
    "}\n",
    "\n",
    "\n",
    "for country in confirmed_by_country.index:\n",
    "    if country == \"All except China\": continue\n",
    "    country_data, model_date_list, logistic, logistic_plus_sigma, logistic_minus_sigma =\\\n",
    "        curve_fit(country, days=120, do_plot=False)\n",
    "    \n",
    "    totals[\"model\"] += [logistic]\n",
    "    totals[\"cases\"] += [country_data]\n",
    "\n",
    "global_cases = np.sum(totals[\"cases\"], axis=0)\n",
    "global_predicted = np.sum(totals[\"model\"], axis=0)\n",
    "    \n",
    "plt.plot(confirmed_by_country.columns,\n",
    "         global_cases, \n",
    "         label=\"Worldwide confirmed cases\", markersize=3, zorder=1)\n",
    "\n",
    "plt.plot(mdates.num2date(model_date_list), \n",
    "         global_predicted, \n",
    "         label=\"Sum of logistic fits per country\")\n",
    "\n",
    "# Annotate current cases\n",
    "plt.annotate(f\"{confirmed_by_country.columns[-1].to_pydatetime().strftime('%m/%d')}: {global_cases[-1]:,.0f}\", \n",
    "             (confirmed_by_country.columns[-1], global_cases[-1]), fontsize=18)\n",
    "\n",
    "# Annotate final predicted cases\n",
    "plt.annotate(f\"{mdates.num2date(model_date_list[-1]).strftime('%m/%d')}: {global_predicted[-1]:,.0f}\", \n",
    "         (model_date_list[-1]-14, global_predicted[-1]*0.94), fontsize=18)\n",
    "\n",
    "set_y_axis_format(True)\n",
    "plt.grid()\n",
    "plt.legend(loc=\"upper left\")\n",
    "plt.xlabel(\"Date\", fontsize=14)\n",
    "plt.ylabel(\"Cases\", fontsize=14)\n",
    "plt.gca().tick_params(which=\"both\", color=light_grey)\n",
    "plt.title(\"COVID-19 Predicted cases worldwide\", fontsize=18)\n",
    "for spine in plt.gca().spines.values():\n",
    "    spine.set_visible(False)\n",
    "plt.show()"
   ]
  },
  {
   "cell_type": "code",
   "execution_count": null,
   "metadata": {},
   "outputs": [],
   "source": []
  },
  {
   "cell_type": "code",
   "execution_count": null,
   "metadata": {},
   "outputs": [],
   "source": []
  },
  {
   "cell_type": "code",
   "execution_count": null,
   "metadata": {},
   "outputs": [],
   "source": []
  },
  {
   "cell_type": "code",
   "execution_count": null,
   "metadata": {},
   "outputs": [],
   "source": []
  },
  {
   "cell_type": "code",
   "execution_count": null,
   "metadata": {},
   "outputs": [],
   "source": []
  },
  {
   "cell_type": "code",
   "execution_count": null,
   "metadata": {},
   "outputs": [],
   "source": []
  }
 ],
 "metadata": {
  "kernelspec": {
   "display_name": "Python 3",
   "language": "python",
   "name": "python3"
  },
  "language_info": {
   "codemirror_mode": {
    "name": "ipython",
    "version": 3
   },
   "file_extension": ".py",
   "mimetype": "text/x-python",
   "name": "python",
   "nbconvert_exporter": "python",
   "pygments_lexer": "ipython3",
   "version": "3.7.6"
  }
 },
 "nbformat": 4,
 "nbformat_minor": 2
}
